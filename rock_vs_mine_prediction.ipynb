{
  "cells": [
    {
      "cell_type": "markdown",
      "metadata": {
        "id": "view-in-github",
        "colab_type": "text"
      },
      "source": [
        "<a href=\"https://colab.research.google.com/github/Biswarup03/Rock-vs-mine-prediction-using-sonar-data/blob/main/rock_vs_mine_prediction.ipynb\" target=\"_parent\"><img src=\"https://colab.research.google.com/assets/colab-badge.svg\" alt=\"Open In Colab\"/></a>"
      ]
    },
    {
      "cell_type": "code",
      "source": [
        "!pip install streamlit pyngrok pandas numpy scikit-learn seaborn matplotlib plotly\n"
      ],
      "metadata": {
        "colab": {
          "base_uri": "https://localhost:8080/"
        },
        "id": "Cru3hSBazUop",
        "outputId": "a1678478-c637-42f1-de31-0cebb3e97261"
      },
      "execution_count": 7,
      "outputs": [
        {
          "output_type": "stream",
          "name": "stdout",
          "text": [
            "Requirement already satisfied: streamlit in /usr/local/lib/python3.12/dist-packages (1.49.1)\n",
            "Requirement already satisfied: pyngrok in /usr/local/lib/python3.12/dist-packages (7.3.0)\n",
            "Requirement already satisfied: pandas in /usr/local/lib/python3.12/dist-packages (2.2.2)\n",
            "Requirement already satisfied: numpy in /usr/local/lib/python3.12/dist-packages (2.0.2)\n",
            "Requirement already satisfied: scikit-learn in /usr/local/lib/python3.12/dist-packages (1.6.1)\n",
            "Requirement already satisfied: seaborn in /usr/local/lib/python3.12/dist-packages (0.13.2)\n",
            "Requirement already satisfied: matplotlib in /usr/local/lib/python3.12/dist-packages (3.10.0)\n",
            "Requirement already satisfied: plotly in /usr/local/lib/python3.12/dist-packages (5.24.1)\n",
            "Requirement already satisfied: altair!=5.4.0,!=5.4.1,<6,>=4.0 in /usr/local/lib/python3.12/dist-packages (from streamlit) (5.5.0)\n",
            "Requirement already satisfied: blinker<2,>=1.5.0 in /usr/local/lib/python3.12/dist-packages (from streamlit) (1.9.0)\n",
            "Requirement already satisfied: cachetools<7,>=4.0 in /usr/local/lib/python3.12/dist-packages (from streamlit) (5.5.2)\n",
            "Requirement already satisfied: click<9,>=7.0 in /usr/local/lib/python3.12/dist-packages (from streamlit) (8.2.1)\n",
            "Requirement already satisfied: packaging<26,>=20 in /usr/local/lib/python3.12/dist-packages (from streamlit) (25.0)\n",
            "Requirement already satisfied: pillow<12,>=7.1.0 in /usr/local/lib/python3.12/dist-packages (from streamlit) (11.3.0)\n",
            "Requirement already satisfied: protobuf<7,>=3.20 in /usr/local/lib/python3.12/dist-packages (from streamlit) (5.29.5)\n",
            "Requirement already satisfied: pyarrow>=7.0 in /usr/local/lib/python3.12/dist-packages (from streamlit) (18.1.0)\n",
            "Requirement already satisfied: requests<3,>=2.27 in /usr/local/lib/python3.12/dist-packages (from streamlit) (2.32.4)\n",
            "Requirement already satisfied: tenacity<10,>=8.1.0 in /usr/local/lib/python3.12/dist-packages (from streamlit) (8.5.0)\n",
            "Requirement already satisfied: toml<2,>=0.10.1 in /usr/local/lib/python3.12/dist-packages (from streamlit) (0.10.2)\n",
            "Requirement already satisfied: typing-extensions<5,>=4.4.0 in /usr/local/lib/python3.12/dist-packages (from streamlit) (4.15.0)\n",
            "Requirement already satisfied: watchdog<7,>=2.1.5 in /usr/local/lib/python3.12/dist-packages (from streamlit) (6.0.0)\n",
            "Requirement already satisfied: gitpython!=3.1.19,<4,>=3.0.7 in /usr/local/lib/python3.12/dist-packages (from streamlit) (3.1.45)\n",
            "Requirement already satisfied: pydeck<1,>=0.8.0b4 in /usr/local/lib/python3.12/dist-packages (from streamlit) (0.9.1)\n",
            "Requirement already satisfied: tornado!=6.5.0,<7,>=6.0.3 in /usr/local/lib/python3.12/dist-packages (from streamlit) (6.4.2)\n",
            "Requirement already satisfied: PyYAML>=5.1 in /usr/local/lib/python3.12/dist-packages (from pyngrok) (6.0.2)\n",
            "Requirement already satisfied: python-dateutil>=2.8.2 in /usr/local/lib/python3.12/dist-packages (from pandas) (2.9.0.post0)\n",
            "Requirement already satisfied: pytz>=2020.1 in /usr/local/lib/python3.12/dist-packages (from pandas) (2025.2)\n",
            "Requirement already satisfied: tzdata>=2022.7 in /usr/local/lib/python3.12/dist-packages (from pandas) (2025.2)\n",
            "Requirement already satisfied: scipy>=1.6.0 in /usr/local/lib/python3.12/dist-packages (from scikit-learn) (1.16.1)\n",
            "Requirement already satisfied: joblib>=1.2.0 in /usr/local/lib/python3.12/dist-packages (from scikit-learn) (1.5.2)\n",
            "Requirement already satisfied: threadpoolctl>=3.1.0 in /usr/local/lib/python3.12/dist-packages (from scikit-learn) (3.6.0)\n",
            "Requirement already satisfied: contourpy>=1.0.1 in /usr/local/lib/python3.12/dist-packages (from matplotlib) (1.3.3)\n",
            "Requirement already satisfied: cycler>=0.10 in /usr/local/lib/python3.12/dist-packages (from matplotlib) (0.12.1)\n",
            "Requirement already satisfied: fonttools>=4.22.0 in /usr/local/lib/python3.12/dist-packages (from matplotlib) (4.59.2)\n",
            "Requirement already satisfied: kiwisolver>=1.3.1 in /usr/local/lib/python3.12/dist-packages (from matplotlib) (1.4.9)\n",
            "Requirement already satisfied: pyparsing>=2.3.1 in /usr/local/lib/python3.12/dist-packages (from matplotlib) (3.2.3)\n",
            "Requirement already satisfied: jinja2 in /usr/local/lib/python3.12/dist-packages (from altair!=5.4.0,!=5.4.1,<6,>=4.0->streamlit) (3.1.6)\n",
            "Requirement already satisfied: jsonschema>=3.0 in /usr/local/lib/python3.12/dist-packages (from altair!=5.4.0,!=5.4.1,<6,>=4.0->streamlit) (4.25.1)\n",
            "Requirement already satisfied: narwhals>=1.14.2 in /usr/local/lib/python3.12/dist-packages (from altair!=5.4.0,!=5.4.1,<6,>=4.0->streamlit) (2.3.0)\n",
            "Requirement already satisfied: gitdb<5,>=4.0.1 in /usr/local/lib/python3.12/dist-packages (from gitpython!=3.1.19,<4,>=3.0.7->streamlit) (4.0.12)\n",
            "Requirement already satisfied: six>=1.5 in /usr/local/lib/python3.12/dist-packages (from python-dateutil>=2.8.2->pandas) (1.17.0)\n",
            "Requirement already satisfied: charset_normalizer<4,>=2 in /usr/local/lib/python3.12/dist-packages (from requests<3,>=2.27->streamlit) (3.4.3)\n",
            "Requirement already satisfied: idna<4,>=2.5 in /usr/local/lib/python3.12/dist-packages (from requests<3,>=2.27->streamlit) (3.10)\n",
            "Requirement already satisfied: urllib3<3,>=1.21.1 in /usr/local/lib/python3.12/dist-packages (from requests<3,>=2.27->streamlit) (2.5.0)\n",
            "Requirement already satisfied: certifi>=2017.4.17 in /usr/local/lib/python3.12/dist-packages (from requests<3,>=2.27->streamlit) (2025.8.3)\n",
            "Requirement already satisfied: smmap<6,>=3.0.1 in /usr/local/lib/python3.12/dist-packages (from gitdb<5,>=4.0.1->gitpython!=3.1.19,<4,>=3.0.7->streamlit) (5.0.2)\n",
            "Requirement already satisfied: MarkupSafe>=2.0 in /usr/local/lib/python3.12/dist-packages (from jinja2->altair!=5.4.0,!=5.4.1,<6,>=4.0->streamlit) (3.0.2)\n",
            "Requirement already satisfied: attrs>=22.2.0 in /usr/local/lib/python3.12/dist-packages (from jsonschema>=3.0->altair!=5.4.0,!=5.4.1,<6,>=4.0->streamlit) (25.3.0)\n",
            "Requirement already satisfied: jsonschema-specifications>=2023.03.6 in /usr/local/lib/python3.12/dist-packages (from jsonschema>=3.0->altair!=5.4.0,!=5.4.1,<6,>=4.0->streamlit) (2025.4.1)\n",
            "Requirement already satisfied: referencing>=0.28.4 in /usr/local/lib/python3.12/dist-packages (from jsonschema>=3.0->altair!=5.4.0,!=5.4.1,<6,>=4.0->streamlit) (0.36.2)\n",
            "Requirement already satisfied: rpds-py>=0.7.1 in /usr/local/lib/python3.12/dist-packages (from jsonschema>=3.0->altair!=5.4.0,!=5.4.1,<6,>=4.0->streamlit) (0.27.1)\n"
          ]
        }
      ]
    },
    {
      "cell_type": "code",
      "source": [
        "!pip install streamlit pyngrok --quiet\n"
      ],
      "metadata": {
        "id": "pLR9hY61J2w_"
      },
      "execution_count": 13,
      "outputs": []
    },
    {
      "cell_type": "code",
      "source": [
        "from pyngrok import ngrok\n",
        "\n",
        "# Set your ngrok auth token\n",
        "!ngrok config add-authtoken 2wa46hdOX73bk4bQWgsTfcn3JBS_7ugj957csFbG6STeGHDvH\n"
      ],
      "metadata": {
        "colab": {
          "base_uri": "https://localhost:8080/"
        },
        "id": "G3-CgwjrBxJM",
        "outputId": "271b5473-ab96-4bdd-b54e-62137b95e9c0"
      },
      "execution_count": 14,
      "outputs": [
        {
          "output_type": "stream",
          "name": "stdout",
          "text": [
            "Authtoken saved to configuration file: /root/.config/ngrok/ngrok.yml\n"
          ]
        }
      ]
    },
    {
      "cell_type": "code",
      "source": [
        "%%writefile app.py\n",
        "import streamlit as st\n",
        "import numpy as np\n",
        "import pandas as pd\n",
        "import matplotlib.pyplot as plt\n",
        "import seaborn as sns\n",
        "import plotly.graph_objects as go\n",
        "from sklearn.model_selection import train_test_split\n",
        "from sklearn.linear_model import LogisticRegression\n",
        "from sklearn.metrics import (\n",
        "    accuracy_score,\n",
        "    confusion_matrix,\n",
        "    classification_report,\n",
        "    roc_curve,\n",
        "    auc\n",
        ")\n",
        "\n",
        "# -----------------------------\n",
        "# Load Dataset\n",
        "# -----------------------------\n",
        "df = pd.read_csv(\"Copy of sonar data.csv\", header=None)\n",
        "\n",
        "X = df.drop(columns=60, axis=1)\n",
        "y = df[60]\n",
        "\n",
        "# Split data\n",
        "X_train, X_test, y_train, y_test = train_test_split(\n",
        "    X, y, test_size=0.1, stratify=y, random_state=1\n",
        ")\n",
        "\n",
        "# Train model\n",
        "model = LogisticRegression()\n",
        "model.fit(X_train, y_train)\n",
        "\n",
        "# -----------------------------\n",
        "# Streamlit UI\n",
        "# -----------------------------\n",
        "st.set_page_config(page_title=\"Rock vs Mine Prediction\", page_icon=\"🔍\", layout=\"wide\")\n",
        "\n",
        "st.title(\"🔍 Rock vs Mine Prediction Dashboard\")\n",
        "st.markdown(\"This app uses **Logistic Regression** to classify sonar signals into **Rock (R)** or **Mine (M)**.\")\n",
        "\n",
        "# Sidebar\n",
        "st.sidebar.header(\"📊 Model Information\")\n",
        "train_acc = accuracy_score(model.predict(X_train), y_train)\n",
        "test_acc = accuracy_score(model.predict(X_test), y_test)\n",
        "st.sidebar.write(f\"**Training Accuracy:** {train_acc:.2f}\")\n",
        "st.sidebar.write(f\"**Testing Accuracy:** {test_acc:.2f}\")\n",
        "\n",
        "# Tabs\n",
        "tab1, tab2, tab3, tab4 = st.tabs([\"📂 Bulk CSV Prediction\", \"🧩 Single Prediction\", \"📈 Model Evaluation\", \"📊 Dataset Overview\"])\n",
        "\n",
        "# -----------------------------\n",
        "# TAB 1: BULK CSV PREDICTION\n",
        "# -----------------------------\n",
        "with tab1:\n",
        "    st.subheader(\"📂 Upload CSV for Bulk Predictions\")\n",
        "    uploaded_file = st.file_uploader(\"Upload a CSV file with 60 features\", type=[\"csv\"])\n",
        "\n",
        "    if uploaded_file is not None:\n",
        "        new_data = pd.read_csv(uploaded_file, header=None)\n",
        "\n",
        "        if new_data.shape[1] != 60:\n",
        "            st.error(\"❌ CSV must have exactly 60 columns!\")\n",
        "        else:\n",
        "            st.success(\"✅ File uploaded successfully!\")\n",
        "\n",
        "            predictions = model.predict(new_data)\n",
        "            probabilities = model.predict_proba(new_data)\n",
        "\n",
        "            results = pd.DataFrame(new_data, columns=[f\"Feature {i+1}\" for i in range(60)])\n",
        "            results[\"Prediction\"] = predictions\n",
        "            results[\"Prediction\"] = results[\"Prediction\"].map({\"R\": \"🪨 Rock\", \"M\": \"💣 Mine\"})\n",
        "            results[\"Rock Probability\"] = probabilities[:, 0]\n",
        "            results[\"Mine Probability\"] = probabilities[:, 1]\n",
        "\n",
        "            st.dataframe(results)\n",
        "\n",
        "            csv = results.to_csv(index=False).encode(\"utf-8\")\n",
        "            st.download_button(\n",
        "                label=\"⬇️ Download Predictions\",\n",
        "                data=csv,\n",
        "                file_name=\"sonar_predictions.csv\",\n",
        "                mime=\"text/csv\"\n",
        "            )\n",
        "\n",
        "# -----------------------------\n",
        "# TAB 2: SINGLE PREDICTION (WITH 🎲 RANDOM FILL)\n",
        "# -----------------------------\n",
        "with tab2:\n",
        "    st.subheader(\"🧩 Single Prediction Mode\")\n",
        "    st.write(\"Enter 60 sonar signal values manually or click **🎲 Random Fill** to auto-fill values:\")\n",
        "\n",
        "    # Session state to store inputs\n",
        "    if \"input_values\" not in st.session_state:\n",
        "        st.session_state.input_values = [0.0] * 60\n",
        "\n",
        "    # 🎲 Random Fill Button\n",
        "    if st.button(\"🎲 Random Fill\"):\n",
        "        st.session_state.input_values = np.round(np.random.rand(60), 2).tolist()\n",
        "\n",
        "    # Input fields in 6 columns\n",
        "    cols = st.columns(6)\n",
        "    input_data = []\n",
        "    for i in range(60):\n",
        "        value = cols[i % 6].number_input(\n",
        "            f\"F{i+1}\",\n",
        "            min_value=0.0,\n",
        "            max_value=1.0,\n",
        "            step=0.01,\n",
        "            value=st.session_state.input_values[i]\n",
        "        )\n",
        "        input_data.append(value)\n",
        "\n",
        "    # Prediction Button\n",
        "    if st.button(\"🔎 Predict\"):\n",
        "        input_array = np.asarray(input_data).reshape(1, -1)\n",
        "        prediction = model.predict(input_array)\n",
        "        probability = model.predict_proba(input_array)[0]\n",
        "\n",
        "        st.subheader(\"Prediction Result\")\n",
        "        if prediction[0] == \"R\":\n",
        "            st.success(f\"🪨 The object is **Rock** (Probability: {probability[0]:.2f})\")\n",
        "        else:\n",
        "            st.error(f\"💣 The object is **Mine** (Probability: {probability[1]:.2f})\")\n",
        "\n",
        "        # Probability Bar Chart\n",
        "        fig = go.Figure(data=[\n",
        "            go.Bar(name=\"Probability\", x=[\"Rock\", \"Mine\"], y=probability, marker_color=[\"#4CAF50\", \"#FF5733\"])\n",
        "        ])\n",
        "        fig.update_layout(title=\"Prediction Probability\", yaxis=dict(title=\"Probability\"))\n",
        "        st.plotly_chart(fig)\n",
        "\n",
        "# -----------------------------\n",
        "# TAB 3: MODEL EVALUATION\n",
        "# -----------------------------\n",
        "with tab3:\n",
        "    st.subheader(\"📈 Model Evaluation Metrics\")\n",
        "\n",
        "    # Confusion Matrix\n",
        "    st.write(\"### Confusion Matrix\")\n",
        "    cm = confusion_matrix(y_test, model.predict(X_test))\n",
        "    fig, ax = plt.subplots()\n",
        "    sns.heatmap(cm, annot=True, fmt=\"d\", cmap=\"Blues\", xticklabels=[\"Rock\", \"Mine\"], yticklabels=[\"Rock\", \"Mine\"], ax=ax)\n",
        "    plt.xlabel(\"Predicted\")\n",
        "    plt.ylabel(\"Actual\")\n",
        "    st.pyplot(fig)\n",
        "\n",
        "    # Classification Report\n",
        "    st.write(\"### Classification Report\")\n",
        "    report = classification_report(y_test, model.predict(X_test), target_names=[\"Rock\", \"Mine\"], output_dict=True)\n",
        "    report_df = pd.DataFrame(report).transpose()\n",
        "    st.dataframe(report_df)\n",
        "\n",
        "    # ROC Curve\n",
        "    st.write(\"### ROC Curve\")\n",
        "    y_prob = model.predict_proba(X_test)[:, 1]\n",
        "    fpr, tpr, _ = roc_curve(y_test.map({\"R\": 0, \"M\": 1}), y_prob)\n",
        "    roc_auc = auc(fpr, tpr)\n",
        "\n",
        "    fig = go.Figure()\n",
        "    fig.add_trace(go.Scatter(x=fpr, y=tpr, mode=\"lines\", name=f\"ROC Curve (AUC={roc_auc:.2f})\"))\n",
        "    fig.add_trace(go.Scatter(x=[0, 1], y=[0, 1], mode=\"lines\", line=dict(dash=\"dash\"), name=\"Random Guess\"))\n",
        "    fig.update_layout(title=\"ROC Curve\", xaxis=dict(title=\"False Positive Rate\"), yaxis=dict(title=\"True Positive Rate\"))\n",
        "    st.plotly_chart(fig)\n",
        "\n",
        "# -----------------------------\n",
        "# TAB 4: DATASET OVERVIEW\n",
        "# -----------------------------\n",
        "with tab4:\n",
        "    st.subheader(\"📊 Dataset Overview\")\n",
        "    st.dataframe(df.head())\n",
        "    st.write(\"### Class Distribution\")\n",
        "    st.bar_chart(df[60].value_counts())\n"
      ],
      "metadata": {
        "colab": {
          "base_uri": "https://localhost:8080/"
        },
        "id": "KgNSsKHTIhqn",
        "outputId": "ea2125ad-f115-43b0-da82-17978d3b24bf"
      },
      "execution_count": 15,
      "outputs": [
        {
          "output_type": "stream",
          "name": "stdout",
          "text": [
            "Overwriting app.py\n"
          ]
        }
      ]
    },
    {
      "cell_type": "code",
      "source": [
        "!streamlit run app.py --server.port 8501 &>/dev/null &\n"
      ],
      "metadata": {
        "id": "IoxiPDMEKSKq"
      },
      "execution_count": 18,
      "outputs": []
    },
    {
      "cell_type": "code",
      "source": [
        "from pyngrok import ngrok\n",
        "\n",
        "# Kill existing tunnels first (just in case)\n",
        "ngrok.kill()\n",
        "\n",
        "# Create new tunnel\n",
        "public_url = ngrok.connect(8501)\n",
        "print(\"🚀 Your Streamlit app is live here:\", public_url)\n"
      ],
      "metadata": {
        "colab": {
          "base_uri": "https://localhost:8080/"
        },
        "id": "8ivsVUtuKJKS",
        "outputId": "6cad4029-46ee-4f85-f2b7-973a6aa5848f"
      },
      "execution_count": 19,
      "outputs": [
        {
          "output_type": "stream",
          "name": "stdout",
          "text": [
            "🚀 Your Streamlit app is live here: NgrokTunnel: \"https://499141645c9c.ngrok-free.app\" -> \"http://localhost:8501\"\n"
          ]
        }
      ]
    },
    {
      "cell_type": "markdown",
      "metadata": {
        "id": "06ffd2d9"
      },
      "source": [
        "To authenticate `pyngrok` with ngrok, you need an authtoken. You can get one from your ngrok dashboard: https://dashboard.ngrok.com/get-started/your-authtoken\n",
        "\n",
        "Once you have your authtoken, add it to Colab's secrets manager under the \"🔑\" icon in the left panel. Name the secret `NGROK_AUTH_TOKEN`.\n",
        "\n",
        "Then, run the following cell to set up the authtoken in your environment:"
      ]
    }
  ],
  "metadata": {
    "colab": {
      "provenance": [],
      "authorship_tag": "ABX9TyNJRaNR7HIi6PUUsY4pkSPp",
      "include_colab_link": true
    },
    "kernelspec": {
      "display_name": "Python 3",
      "name": "python3"
    },
    "language_info": {
      "name": "python"
    }
  },
  "nbformat": 4,
  "nbformat_minor": 0
}